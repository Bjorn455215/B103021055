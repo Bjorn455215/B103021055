{
  "nbformat": 4,
  "nbformat_minor": 0,
  "metadata": {
    "colab": {
      "provenance": [],
      "authorship_tag": "ABX9TyPQRKPnn8fGPopt9Ub2Lp8M",
      "include_colab_link": true
    },
    "kernelspec": {
      "name": "python3",
      "display_name": "Python 3"
    },
    "language_info": {
      "name": "python"
    }
  },
  "cells": [
    {
      "cell_type": "markdown",
      "metadata": {
        "id": "view-in-github",
        "colab_type": "text"
      },
      "source": [
        "<a href=\"https://colab.research.google.com/github/Bjorn455215/B103021055/blob/main/EX01_05_Caesar_Cipher_Encode_and_decode_.ipynb\" target=\"_parent\"><img src=\"https://colab.research.google.com/assets/colab-badge.svg\" alt=\"Open In Colab\"/></a>"
      ]
    },
    {
      "cell_type": "code",
      "execution_count": 6,
      "metadata": {
        "colab": {
          "base_uri": "https://localhost:8080/"
        },
        "id": "L6hxEuriJ_Am",
        "outputId": "bea399a8-d4d1-452a-c775-3b36e058ff7f"
      },
      "outputs": [
        {
          "output_type": "stream",
          "name": "stdout",
          "text": [
            "e8\n",
            "hello world\n",
            "pmttw(wztl\n"
          ]
        }
      ],
      "source": [
        "act = input()\n",
        "txt = input()\n",
        "\n",
        "act_type = act[0]\n",
        "key = int(act[1:])\n",
        "ntxt = ''\n",
        "\n",
        "if act_type == 'd':\n",
        "  for c in txt:\n",
        "    nc = ord(c) - key\n",
        "    ntxt = ntxt + chr(nc)\n",
        "else :\n",
        "  for c in txt:\n",
        "    nc = ord(c) + key\n",
        "    ntxt = ntxt + chr(nc)\n",
        "\n",
        "print(ntxt)"
      ]
    }
  ]
}