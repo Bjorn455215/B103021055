{
  "nbformat": 4,
  "nbformat_minor": 0,
  "metadata": {
    "colab": {
      "provenance": [],
      "authorship_tag": "ABX9TyP++dT8099C2hX1MeopA83W",
      "include_colab_link": true
    },
    "kernelspec": {
      "name": "python3",
      "display_name": "Python 3"
    },
    "language_info": {
      "name": "python"
    }
  },
  "cells": [
    {
      "cell_type": "markdown",
      "metadata": {
        "id": "view-in-github",
        "colab_type": "text"
      },
      "source": [
        "<a href=\"https://colab.research.google.com/github/Bjorn455215/B103021055/blob/main/EX02_04_Download_Pokemon_Images.ipynb\" target=\"_parent\"><img src=\"https://colab.research.google.com/assets/colab-badge.svg\" alt=\"Open In Colab\"/></a>"
      ]
    },
    {
      "cell_type": "code",
      "execution_count": 2,
      "metadata": {
        "id": "UsJMlHmxeG9x"
      },
      "outputs": [],
      "source": [
        "import requests\n",
        "from bs4 import BeautifulSoup\n",
        "\n",
        "for i in range(1,11):\n",
        "  id = f'{i:04}' #把i格式化，前面補0\n",
        "  url = f'https://tw.portal-pokemon.com/play/pokedex/{id}'\n",
        "  response = requests.get(url)\n",
        "  soup = BeautifulSoup(response.text, 'lxml')\n",
        "  img_src = soup.find('img', class_='pokemon-img__front').get('src')\n",
        "  img_url = 'https://tw.portal-pokemon.com' + img_src\n",
        "  img = requests.get(img_url)\n",
        "  with open(f'/content/pokemon/{id}.png', 'wb') as f:\n",
        "    f.write(img.content)"
      ]
    }
  ]
}