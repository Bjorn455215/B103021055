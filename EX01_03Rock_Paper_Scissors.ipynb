{
  "nbformat": 4,
  "nbformat_minor": 0,
  "metadata": {
    "colab": {
      "provenance": [],
      "authorship_tag": "ABX9TyNdkfQWFcstUimnTvG2JS3p",
      "include_colab_link": true
    },
    "kernelspec": {
      "name": "python3",
      "display_name": "Python 3"
    },
    "language_info": {
      "name": "python"
    }
  },
  "cells": [
    {
      "cell_type": "markdown",
      "metadata": {
        "id": "view-in-github",
        "colab_type": "text"
      },
      "source": [
        "<a href=\"https://colab.research.google.com/github/Bjorn455215/B103021055/blob/main/EX01_03Rock_Paper_Scissors.ipynb\" target=\"_parent\"><img src=\"https://colab.research.google.com/assets/colab-badge.svg\" alt=\"Open In Colab\"/></a>"
      ]
    },
    {
      "cell_type": "code",
      "execution_count": 5,
      "metadata": {
        "colab": {
          "base_uri": "https://localhost:8080/"
        },
        "id": "-Gc_0shVRuW9",
        "outputId": "0445b366-def6-4f57-9243-5c36ce97769a"
      },
      "outputs": [
        {
          "output_type": "stream",
          "name": "stdout",
          "text": [
            "2\n",
            "computer: 0\n",
            "you lose\n"
          ]
        }
      ],
      "source": [
        "import random\n",
        "user = int(input())\n",
        "cmp = random.choice([0,2,5])\n",
        "print('computer:',cmp)\n",
        "\n",
        "if user == cmp:\n",
        "  print('draw')\n",
        "elif (user == 0 and cmp == 2) or (user == 2 and cmp == 5) or (user == 5 and cmp == 0):\n",
        "  print('you win')\n",
        "else:\n",
        "  print('you lose')"
      ]
    }
  ]
}