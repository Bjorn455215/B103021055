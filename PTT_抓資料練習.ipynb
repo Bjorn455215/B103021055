{
  "nbformat": 4,
  "nbformat_minor": 0,
  "metadata": {
    "colab": {
      "provenance": [],
      "authorship_tag": "ABX9TyNmLhDeTk2KCvKiWHzqnoUE",
      "include_colab_link": true
    },
    "kernelspec": {
      "name": "python3",
      "display_name": "Python 3"
    },
    "language_info": {
      "name": "python"
    }
  },
  "cells": [
    {
      "cell_type": "markdown",
      "metadata": {
        "id": "view-in-github",
        "colab_type": "text"
      },
      "source": [
        "<a href=\"https://colab.research.google.com/github/Bjorn455215/B103021055/blob/main/PTT_%E6%8A%93%E8%B3%87%E6%96%99%E7%B7%B4%E7%BF%92.ipynb\" target=\"_parent\"><img src=\"https://colab.research.google.com/assets/colab-badge.svg\" alt=\"Open In Colab\"/></a>"
      ]
    },
    {
      "cell_type": "code",
      "execution_count": 51,
      "metadata": {
        "colab": {
          "base_uri": "https://localhost:8080/"
        },
        "id": "apaXSUkD-4rh",
        "outputId": "ee501284-d73f-4243-8265-ddad37160fa3"
      },
      "outputs": [
        {
          "output_type": "execute_result",
          "data": {
            "text/plain": [
              "200"
            ]
          },
          "metadata": {},
          "execution_count": 51
        }
      ],
      "source": [
        "import requests\n",
        "from bs4 import BeautifulSoup\n",
        "\n",
        "url = 'https://www.ptt.cc/bbs/movie/index.html'\n",
        "response = requests.get(url)\n",
        "response.status_code"
      ]
    },
    {
      "cell_type": "code",
      "source": [
        "soup = BeautifulSoup(response.text, 'lxml')\n",
        "soup.title #提取 HTML 中 <title> 标签内的内容"
      ],
      "metadata": {
        "colab": {
          "base_uri": "https://localhost:8080/"
        },
        "id": "lPJLr1i3_Y-W",
        "outputId": "9183adec-a5e1-43a0-d4c8-64e9d0c3cccb"
      },
      "execution_count": 52,
      "outputs": [
        {
          "output_type": "execute_result",
          "data": {
            "text/plain": [
              "<title>看板 movie 文章列表 - 批踢踢實業坊</title>"
            ]
          },
          "metadata": {},
          "execution_count": 52
        }
      ]
    },
    {
      "cell_type": "code",
      "source": [
        "# 现在您可以在 soup 对象上使用 find_all\n",
        "for atcl in soup.find_all('div', class_ = 'r-ent'):\n",
        "  ttle = atcl.find('div', class_='title').a.text\n",
        "  href = 'https://www.ptt.cc' + atcl.find('div', class_='title').a.get('href')\n",
        "  date = atcl.find('div', class_='date').text\n",
        "  print(date, href, ttle)"
      ],
      "metadata": {
        "colab": {
          "base_uri": "https://localhost:8080/"
        },
        "id": "qUeril2wAcsU",
        "outputId": "5923475a-5edf-4215-e8d7-17d710d612e0"
      },
      "execution_count": 53,
      "outputs": [
        {
          "output_type": "stream",
          "name": "stdout",
          "text": [
            " 3/25 https://www.ptt.cc/bbs/movie/M.1742882992.A.C16.html [請益] 月老 原著比電影好看很多嗎?\n",
            " 3/25 https://www.ptt.cc/bbs/movie/M.1742883654.A.D09.html [新聞] 星際寶貝選角太白爭議\n",
            " 3/25 https://www.ptt.cc/bbs/movie/M.1742885304.A.3BD.html [討論] 你最喜歡王家衛東邪西毒的哪個角色?\n",
            " 9/04 https://www.ptt.cc/bbs/movie/M.1630756788.A.1FE.html [公告] 電影板板規 2022/12/5\n",
            " 9/15 https://www.ptt.cc/bbs/movie/M.1694784041.A.89F.html [公告] 禁政治版規 及 投票結果\n"
          ]
        }
      ]
    },
    {
      "cell_type": "code",
      "source": [
        "'https://www.ptt.cc' + soup.find_all('a', class_='btn wide')[1]['href']"
      ],
      "metadata": {
        "colab": {
          "base_uri": "https://localhost:8080/",
          "height": 36
        },
        "id": "MUzh76NsE3D7",
        "outputId": "7b207684-61ad-4432-fe01-adc05a8309ee"
      },
      "execution_count": 54,
      "outputs": [
        {
          "output_type": "execute_result",
          "data": {
            "text/plain": [
              "'https://www.ptt.cc/bbs/movie/index10542.html'"
            ],
            "application/vnd.google.colaboratory.intrinsic+json": {
              "type": "string"
            }
          },
          "metadata": {},
          "execution_count": 54
        }
      ]
    },
    {
      "cell_type": "code",
      "source": [
        "def get_articles(url):\n",
        "  response = requests.get(url)\n",
        "  soup = BeautifulSoup(response.text, 'lxml')\n",
        "  for atcl in soup.find_all('div',class_='r-ent'):\n",
        "    if atcl.find('div',class_='title').a:\n",
        "      ttle = atcl.find('div',class_='title').a.text\n",
        "      href = 'https://www.ptt.cc' + atcl.find('div',class_='title').a.get('href')\n",
        "\n",
        "    else:\n",
        "      ttle = atcl.find('div',class_ ='title').text\n",
        "      href = ''\n",
        "    data = atcl.find('div',class_='date').text\n",
        "    print(data,href,ttle)\n",
        "  url = 'https://www.ptt.cc'+soup.find_all('a',class_='btn wide')[1].get('href')\n",
        "  return url\n",
        "url = 'https://www.ptt.cc/bbs/movie/index.html'\n",
        "for i in range(5):\n",
        "  url = get_articles(url)\n",
        "\n"
      ],
      "metadata": {
        "colab": {
          "base_uri": "https://localhost:8080/"
        },
        "id": "HEUqkoDjFTio",
        "outputId": "9673b334-f16b-4eaa-ebb0-c62abd74c7d8"
      },
      "execution_count": 57,
      "outputs": [
        {
          "output_type": "stream",
          "name": "stdout",
          "text": [
            " 3/25 https://www.ptt.cc/bbs/movie/M.1742882992.A.C16.html [請益] 月老 原著比電影好看很多嗎?\n",
            " 3/25 https://www.ptt.cc/bbs/movie/M.1742883654.A.D09.html [新聞] 星際寶貝選角太白爭議\n",
            " 3/25 https://www.ptt.cc/bbs/movie/M.1742885304.A.3BD.html [討論] 你最喜歡王家衛東邪西毒的哪個角色?\n",
            " 9/04 https://www.ptt.cc/bbs/movie/M.1630756788.A.1FE.html [公告] 電影板板規 2022/12/5\n",
            " 9/15 https://www.ptt.cc/bbs/movie/M.1694784041.A.89F.html [公告] 禁政治版規 及 投票結果\n",
            " 3/24 https://www.ptt.cc/bbs/movie/M.1742826405.A.F9F.html [好慢雷]  Mikey 17\n",
            " 3/24 https://www.ptt.cc/bbs/movie/M.1742826519.A.D95.html [新聞] 大阪亞洲影展 「我家的事」4台灣演員同獲藥師真珠獎\n",
            " 3/24 https://www.ptt.cc/bbs/movie/M.1742828958.A.3FB.html Re: [討論] 白雪公主該給誰演\n",
            " 3/25  \n",
            "\t\t\t\n",
            "\t\t\t\t(本文已被刪除) [XDGEE]\n",
            "\t\t\t\n",
            "\t\t\t\n",
            " 3/25 https://www.ptt.cc/bbs/movie/M.1742833366.A.CD3.html [新聞] 新版《惡靈古堡》真人電影劇情曝光！主角\n",
            " 3/25 https://www.ptt.cc/bbs/movie/M.1742833522.A.5C4.html [新聞] 伊莉莎白歐森想扮「老年版」緋紅女巫！喊\n",
            " 3/25 https://www.ptt.cc/bbs/movie/M.1742836118.A.D8B.html [討論] 強納森梅傑斯「雜誌夢」爛番茄81%\n",
            " 3/25 https://www.ptt.cc/bbs/movie/M.1742838281.A.3D3.html [討論] 變形金剛 萬獸崛起 \n",
            " 3/25 https://www.ptt.cc/bbs/movie/M.1742848612.A.7D0.html [超好雷] 特洛伊：木馬屠城\n",
            " 3/25 https://www.ptt.cc/bbs/movie/M.1742861864.A.E08.html [討論] 伊麗莎白歐森說她不會演復5復6\n",
            " 3/25 https://www.ptt.cc/bbs/movie/M.1742868018.A.5A0.html [討論] 關於進電影院這回事\n",
            " 3/25 https://www.ptt.cc/bbs/movie/M.1742868930.A.2AC.html Re: [討論] 白雪公主該給誰演\n",
            " 3/25 https://www.ptt.cc/bbs/movie/M.1742869316.A.EC6.html [新聞] 全新重啟版《神鬼傳奇》正式開拍 \n",
            " 3/25 https://www.ptt.cc/bbs/movie/M.1742869431.A.FB6.html [新聞] 漫威MCU宇宙第七階段預計推出的四部電影\n",
            " 3/25 https://www.ptt.cc/bbs/movie/M.1742869791.A.110.html [請益] 給我一首琴的時間 預告裡的英文歌是?\n",
            " 3/25 https://www.ptt.cc/bbs/movie/M.1742869993.A.4A0.html Re: [討論] 變形金剛 萬獸崛起 \n",
            " 3/25 https://www.ptt.cc/bbs/movie/M.1742876834.A.2EF.html [討論] 迪士尼公主哪個算是成功真人化？\n",
            " 3/25 https://www.ptt.cc/bbs/movie/M.1742879077.A.5FA.html [新聞] 無懼膚色爭議 《白雪公主》穩坐台美票房\n",
            " 3/25 https://www.ptt.cc/bbs/movie/M.1742880200.A.5C0.html [片單] 賺災難財的電影\n",
            " 3/25 https://www.ptt.cc/bbs/movie/M.1742881665.A.04A.html [新聞] 剛獲奧斯卡最佳紀錄片獎 巴勒斯坦導演遇襲後遭以軍逮捕\n",
            " 3/24 https://www.ptt.cc/bbs/movie/M.1742790359.A.D09.html [普雷] 妳是我眼中的蘋果-偶像劇框架的四不像\n",
            " 3/24 https://www.ptt.cc/bbs/movie/M.1742794880.A.0F3.html [新聞] 《白雪公主》真人電影上映！ 爭議一籮筐\n",
            " 3/24 https://www.ptt.cc/bbs/movie/M.1742796445.A.7C9.html [好雷] 《封神第二部：戰火西岐》比想像中有料\n",
            " 3/24 https://www.ptt.cc/bbs/movie/M.1742796508.A.6CA.html [新聞] 約翰卡本特為奉俊昊下部電影配樂\n",
            " 3/24 https://www.ptt.cc/bbs/movie/M.1742801877.A.064.html Re: [贈票] 究竟誰是兇手【無線殺機】北中南搶先看\n",
            " 3/24 https://www.ptt.cc/bbs/movie/M.1742802552.A.693.html [新聞] 觀眾不買單！《白雪公主》首週北美票房\n",
            " 3/24 https://www.ptt.cc/bbs/movie/M.1742804191.A.0CC.html [情報] 天作之合首支中文預告 \n",
            " 3/24 https://www.ptt.cc/bbs/movie/M.1742804334.A.7D0.html [好雷] 【Queer】這種美，是醍醐灌頂的享受\n",
            " 3/24 https://www.ptt.cc/bbs/movie/M.1742804690.A.FBF.html [討論] 真人化電影IMDB分數最後一名\n",
            " 3/24 https://www.ptt.cc/bbs/movie/M.1742805883.A.149.html [普雷]《青春末世物語》體制、地震、成長痛\n",
            " 3/24 https://www.ptt.cc/bbs/movie/M.1742808757.A.BB8.html [討論] 看過最爽的4DX電影\n",
            " 3/24  \n",
            "\t\t\t\n",
            "\t\t\t\t(本文已被刪除) [XDGEE]\n",
            "\t\t\t\n",
            "\t\t\t\n",
            " 3/24 https://www.ptt.cc/bbs/movie/M.1742818135.A.327.html [新聞] 馬修麥康納支持「征服者康」繼續拍戲！超\n",
            " 3/24 https://www.ptt.cc/bbs/movie/M.1742818206.A.3B8.html [新聞] 《白雪公主》票房創迪士尼新低！勞勃許奈\n",
            " 3/24 https://www.ptt.cc/bbs/movie/M.1742818647.A.9E4.html [新聞] 迪士尼《白雪公主》爆好評！電影上映穩\n",
            " 3/24 https://www.ptt.cc/bbs/movie/M.1742820071.A.B49.html [普雷]《Queer》：老少男同志的中門對狙\n",
            " 3/24 https://www.ptt.cc/bbs/movie/M.1742821966.A.FF2.html [新聞] IMDB評2.2分真人版「白雪公主」\n",
            " 3/24 https://www.ptt.cc/bbs/movie/M.1742822298.A.8F2.html [問片] 想找一種類型的電影\n",
            " 3/24 https://www.ptt.cc/bbs/movie/M.1742824490.A.E4E.html Re: [討論] 看過最爽的4DX電影\n",
            " 3/24 https://www.ptt.cc/bbs/movie/M.1742825277.A.38C.html [討論] 白雪公主該給誰演\n",
            " 3/23 https://www.ptt.cc/bbs/movie/M.1742736798.A.FF8.html [普雷] 白雪公主\n",
            " 3/23 https://www.ptt.cc/bbs/movie/M.1742737781.A.608.html [微好雷] 我們的故事未來待續\n",
            " 3/23 https://www.ptt.cc/bbs/movie/M.1742738301.A.D16.html [好雷] 白雪公主 (1937年版)\n",
            " 3/23 https://www.ptt.cc/bbs/movie/M.1742738632.A.E99.html [大爆雷] 小小的我\n",
            " 3/23 https://www.ptt.cc/bbs/movie/M.1742740720.A.5FA.html [討論] 烏爾善的三部曲成本也太高了吧？\n",
            " 3/23 https://www.ptt.cc/bbs/movie/M.1742741955.A.B1F.html [討論] Felicity Jones 有搞頭嗎\n",
            " 3/23 https://www.ptt.cc/bbs/movie/M.1742742110.A.525.html [普好雷] 給我一首琴的時間-時機的浪漫變奏\n",
            " 3/23 https://www.ptt.cc/bbs/movie/M.1742743911.A.933.html [情報] 3/23 當週12部新片預告+Youtube觀看排行\n",
            " 3/23 https://www.ptt.cc/bbs/movie/M.1742744549.A.D6D.html [好無雷] 【不丹是幸福】沒有比較沒有傷害\n",
            " 3/24 https://www.ptt.cc/bbs/movie/M.1742746631.A.12C.html [好雷] 封神第二部：戰火西岐\n",
            " 3/24 https://www.ptt.cc/bbs/movie/M.1742746938.A.446.html [新聞] 白雪公主首周4300萬美金\n",
            " 3/24 https://www.ptt.cc/bbs/movie/M.1742747464.A.785.html [片單] 請問韓國搞笑片\n",
            " 3/24 https://www.ptt.cc/bbs/movie/M.1742751374.A.FA1.html Re: [討論] 電影院是不是沒落了？\n",
            " 3/24 https://www.ptt.cc/bbs/movie/M.1742753293.A.E60.html [負雷]白雪公主2025電影版觀後感 \n",
            " 3/24 https://www.ptt.cc/bbs/movie/M.1742754841.A.581.html Re: [討論] 電影院是不是沒落了？\n",
            " 3/24 https://www.ptt.cc/bbs/movie/M.1742771690.A.B9E.html [新聞] 1937動畫《白雪公主》、2025電影真人版 \n",
            " 3/24 https://www.ptt.cc/bbs/movie/M.1742778081.A.F5F.html [討論] 演員的肢體語言影響觀影感受\n",
            " 3/24 https://www.ptt.cc/bbs/movie/M.1742785444.A.84E.html [微好雷] 《吸血鬼：諾斯費拉圖》 \n",
            " 3/24 https://www.ptt.cc/bbs/movie/M.1742788129.A.06B.html Re: [討論] 電影院是不是沒落了？\n",
            " 3/24 https://www.ptt.cc/bbs/movie/M.1742790075.A.B25.html [請益] 老片重映的播放格式\n",
            " 3/23 https://www.ptt.cc/bbs/movie/M.1742704684.A.934.html Re: [討論] 電影院是不是沒落了？\n",
            " 3/23 https://www.ptt.cc/bbs/movie/M.1742704843.A.DD1.html [微好雷] 奧黛莎\n",
            " 3/23 https://www.ptt.cc/bbs/movie/M.1742707261.A.2E8.html Re: [討論] 電影院是不是沒落了？\n",
            " 3/23 https://www.ptt.cc/bbs/movie/M.1742711306.A.963.html Re: [討論] 國外白雪公主首映包場\n",
            " 3/23 https://www.ptt.cc/bbs/movie/M.1742711361.A.2BE.html [好雷]封神二:戰火西岐 \n",
            " 3/23 https://www.ptt.cc/bbs/movie/M.1742712745.A.6FF.html [新聞] 2025《白雪公主》靠5大超能力「逆轉勝」\n",
            " 3/23  \n",
            "\t\t\t\n",
            "\t\t\t\t(本文已被刪除) [dodoro1]\n",
            "\t\t\t\n",
            "\t\t\t\n",
            " 3/23  \n",
            "\t\t\t\n",
            "\t\t\t\t(本文已被刪除) [dodoro1]\n",
            "\t\t\t\n",
            "\t\t\t\n",
            " 3/23 https://www.ptt.cc/bbs/movie/M.1742714173.A.7DB.html [新聞] 蘋果在串流媒體服務每年虧損超過10億美元\n",
            " 3/23  \n",
            "\t\t\t\n",
            "\t\t\t\t(本文已被刪除) [Angela]\n",
            "\t\t\t\n",
            "\t\t\t\n",
            " 3/23  \n",
            "\t\t\t\n",
            "\t\t\t\t(本文已被刪除) [Angela]\n",
            "\t\t\t\n",
            "\t\t\t\n",
            " 3/23 https://www.ptt.cc/bbs/movie/M.1742717107.A.915.html Re: [討論] 電影院是不是沒落了？\n",
            " 3/23 https://www.ptt.cc/bbs/movie/M.1742717149.A.ACF.html [討論] 大家一年看幾部電影？\n",
            " 3/23 https://www.ptt.cc/bbs/movie/M.1742719686.A.C1D.html [片單] 韓國2024推薦\n",
            " 3/23 https://www.ptt.cc/bbs/movie/M.1742722596.A.2BD.html [負雷] 六弄咖啡館什麼大爛片…\n",
            " 3/23 https://www.ptt.cc/bbs/movie/M.1742726638.A.E45.html [請益] YouTube都在黑白雪公主是怎樣\n",
            " 3/23 https://www.ptt.cc/bbs/movie/M.1742727997.A.8D4.html [超好雷] 《青春末世物語》(HAPPYEND)\n",
            " 3/23 https://www.ptt.cc/bbs/movie/M.1742729886.A.24A.html [負雷] 《白雪公主》  毀滅童年的真人災難秀\n",
            " 3/23 https://www.ptt.cc/bbs/movie/M.1742731026.A.DE4.html [好雷] 封神第二部：戰火西岐\n",
            " 3/23 https://www.ptt.cc/bbs/movie/M.1742731732.A.26F.html [負無雷] 大力水手：血腥菠菜\n"
          ]
        }
      ]
    }
  ]
}