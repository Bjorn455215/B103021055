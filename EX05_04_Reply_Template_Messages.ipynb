{
  "nbformat": 4,
  "nbformat_minor": 0,
  "metadata": {
    "colab": {
      "provenance": [],
      "authorship_tag": "ABX9TyP5GjI9vN418Mg4ophR+97o",
      "include_colab_link": true
    },
    "kernelspec": {
      "name": "python3",
      "display_name": "Python 3"
    },
    "language_info": {
      "name": "python"
    }
  },
  "cells": [
    {
      "cell_type": "markdown",
      "metadata": {
        "id": "view-in-github",
        "colab_type": "text"
      },
      "source": [
        "<a href=\"https://colab.research.google.com/github/Bjorn455215/B103021055/blob/main/EX05_04_Reply_Template_Messages.ipynb\" target=\"_parent\"><img src=\"https://colab.research.google.com/assets/colab-badge.svg\" alt=\"Open In Colab\"/></a>"
      ]
    },
    {
      "cell_type": "code",
      "execution_count": 1,
      "metadata": {
        "colab": {
          "base_uri": "https://localhost:8080/"
        },
        "id": "jXJ4dokAPtXf",
        "outputId": "1501cdb4-c99e-40bf-9193-2291770c1031"
      },
      "outputs": [
        {
          "output_type": "stream",
          "name": "stdout",
          "text": [
            "\u001b[2K   \u001b[90m━━━━━━━━━━━━━━━━━━━━━━━━━━━━━━━━━━━━━━━━\u001b[0m \u001b[32m776.1/776.1 kB\u001b[0m \u001b[31m9.6 MB/s\u001b[0m eta \u001b[36m0:00:00\u001b[0m\n",
            "\u001b[2K   \u001b[90m━━━━━━━━━━━━━━━━━━━━━━━━━━━━━━━━━━━━━━━━\u001b[0m \u001b[32m165.6/165.6 kB\u001b[0m \u001b[31m10.1 MB/s\u001b[0m eta \u001b[36m0:00:00\u001b[0m\n",
            "\u001b[?25h"
          ]
        }
      ],
      "source": [
        "!pip install -q pyngrok flask_ngrok # for colab\n",
        "!pip install -q flask line-bot-sdk"
      ]
    },
    {
      "cell_type": "code",
      "source": [
        "# for colab\n",
        "from google.colab import userdata\n",
        "from pyngrok import ngrok\n",
        "from flask_ngrok import run_with_ngrok\n",
        "def ngrok_start():\n",
        "    ngrok.set_auth_token(userdata.get('NGROK_AUTOTOKEN'))\n",
        "    ngrok.connect(5000)\n",
        "    run_with_ngrok(app)\n",
        "\n",
        "from flask import Flask, request, abort\n",
        "\n",
        "from linebot.v3 import WebhookHandler\n",
        "from linebot.v3.exceptions import InvalidSignatureError\n",
        "from linebot.v3.webhooks import MessageEvent, TextMessageContent\n",
        "from linebot.v3.messaging import (\n",
        "    Configuration, ApiClient, MessagingApi,\n",
        "    ReplyMessageRequest,\n",
        "    TextMessage,\n",
        "    TemplateMessage,\n",
        "    ConfirmTemplate,\n",
        "    MessageAction,\n",
        "    CarouselTemplate,\n",
        "    CarouselColumn,\n",
        "    URIAction,#第一個按鈕\n",
        "    PostbackAction#第二個按鈕\n",
        ")\n",
        "\n",
        "app = Flask(__name__)\n",
        "\n",
        "configuration = Configuration(access_token=userdata.get('Line_channel_accesstoken'))\n",
        "handler = WebhookHandler(userdata.get('Line_channel_token'))\n",
        "\n",
        "'''\n",
        "除做伺服器外，也可以額外新增功能\n",
        "@app.route(\"/callback\", methods=['GET'])\n",
        "def index():\n",
        "  return'hello!'\n",
        "'''\n",
        "\n",
        "@app.route(\"/callback\", methods=['POST'])#bot server自己在使用的伺服器，專門為了line bot使用\n",
        "# 將 /callback 路徑與 callback 函式綁定，用於處理來自 LINE 平台的 POST 請求。這是 LINE Bot 的 Webhook URL。\n",
        "def callback(): #用於驗證請求簽章，並將請求交給 LINE Bot SDK 處理。\n",
        "    signature = request.headers['X-Line-Signature']\n",
        "    body = request.get_data(as_text=True)\n",
        "    try:\n",
        "        handler.handle(body, signature)#連接下面的def\n",
        "    except InvalidSignatureError:\n",
        "        abort(400)\n",
        "    return 'OK'\n",
        "\n",
        "\n",
        "@handler.add(MessageEvent, message=TextMessageContent)#啟動linebot要做的事情\n",
        "##用於處理使用者傳送的文字訊息。\n",
        "def handle_message(event):#用於根據使用者傳送的文字訊息做出回應。\n",
        "    with ApiClient(configuration) as api_client: #ApiClient 是用於與 LINE API 進行通訊的客戶端物件。\n",
        "        line_bot_api = MessagingApi(api_client)#MessagingApi 提供了各種與 LINE 訊息相關的功能，例如傳送訊息、回覆訊息等。\n",
        "        action = event.message.text\n",
        "        if action == 'confirm':#輸入 confirm 會顯示一個確認視窗，詢問使用者是否喜歡看青春之箱。\n",
        "\n",
        "             #建立一個 ConfirmTemplate 物件，用於顯示確認視窗，詢問使用者是否喜歡看青春之箱。\n",
        "             reply = TemplateMessage(\n",
        "                 alt_text=\"這是確認視窗\",\n",
        "                 template=ConfirmTemplate(\n",
        "                     text=\"你喜歡看青春之箱嗎？\",\n",
        "                     actions=[\n",
        "                        MessageAction(label=\"是\", text=\"我超愛\"),\n",
        "                        MessageAction(label=\"否\", text=\"其實我非常喜歡 但我要說不\")\n",
        "                         ]\n",
        "                   ))\n",
        "             #建立一個 TemplateMessage 物件，將 ConfirmTemplate 作為其模板，並設定替代文字為 \"這是確認視窗\"。\n",
        "\n",
        "        elif action == 'carousel':\n",
        "          carousel_template= CarouselTemplate(\n",
        "            columns=[\n",
        "                CarouselColumn(\n",
        "                    thumbnail_image_url='https://images.chinatimes.com/newsphoto/2020-01-09/1024/BBC400_P_03_02.jpg',\n",
        "                    title='夏日大作戰',\n",
        "                    text='細田守導演的日本科幻暨浪漫電影。',\n",
        "                    actions=[\n",
        "                        URIAction(label='維基百科', uri='https://zh.wikipedia.org/zh-tw/%E5%A4%8F%E6%97%A5%E5%A4%A7%E4%BD%9C%E6%88%B0'),#按鈕1\n",
        "                        MessageAction(label='投票', text='我投夏日大作戰一票')#按鈕2\n",
        "                    ]\n",
        "                ),\n",
        "                CarouselColumn(\n",
        "                    thumbnail_image_url='https://i.imgur.com/M9wqbiT.jpeg',\n",
        "                    title='青春之箱',\n",
        "                    text='日本漫畫家三浦糀創作的少年漫畫。',\n",
        "                    actions=[\n",
        "                        URIAction(label='維基百科', uri='https://zh.wikipedia.org/zh-tw/%E9%9D%92%E6%98%A5%E4%B9%8B%E7%AE%B1'),#按鈕1\n",
        "                        MessageAction(label='投票', text='我投青春之箱一票')#按鈕2\n",
        "                    ]\n",
        "                )\n",
        "            ]\n",
        "        )\n",
        "          reply = TemplateMessage(\n",
        "                 alt_text=\"這是輪播視窗\",\n",
        "                 template=carousel_template)\n",
        "\n",
        "        else:\n",
        "          reply = TextMessage(text = 'Thanks !')#輸入其他回復，則回覆Thanks !\n",
        "        line_bot_api.reply_message(\n",
        "            ReplyMessageRequest(\n",
        "                reply_token=event.reply_token,#reply_token: 回覆 Token，用於識別要回覆的訊息。\n",
        "                messages=[\n",
        "                    reply#reply 物件是之前建立的 TemplateMessage物件，代表要回覆的訊息內容。\n",
        "                ]\n",
        "            )\n",
        "        )\n",
        "\n",
        "ngrok_start() # for colab\n",
        "if __name__ == \"__main__\":\n",
        "    app.run()"
      ],
      "metadata": {
        "colab": {
          "base_uri": "https://localhost:8080/"
        },
        "id": "ny20Cj8_WqjL",
        "outputId": "d57ebbfc-afad-4f68-9071-d305e79b4b9c"
      },
      "execution_count": 12,
      "outputs": [
        {
          "output_type": "stream",
          "name": "stdout",
          "text": [
            " * Serving Flask app '__main__'\n",
            " * Debug mode: off\n"
          ]
        },
        {
          "output_type": "stream",
          "name": "stderr",
          "text": [
            "INFO:werkzeug:\u001b[31m\u001b[1mWARNING: This is a development server. Do not use it in a production deployment. Use a production WSGI server instead.\u001b[0m\n",
            " * Running on http://127.0.0.1:5000\n",
            "INFO:werkzeug:\u001b[33mPress CTRL+C to quit\u001b[0m\n"
          ]
        },
        {
          "output_type": "stream",
          "name": "stdout",
          "text": [
            " * Running on http://d159-34-138-200-213.ngrok-free.app\n",
            " * Traffic stats available on http://127.0.0.1:4040\n"
          ]
        },
        {
          "output_type": "stream",
          "name": "stderr",
          "text": [
            "INFO:werkzeug:127.0.0.1 - - [13/May/2025 08:09:22] \"\u001b[33mGET / HTTP/1.1\u001b[0m\" 404 -\n",
            "INFO:werkzeug:127.0.0.1 - - [13/May/2025 08:09:23] \"\u001b[33mGET /favicon.ico HTTP/1.1\u001b[0m\" 404 -\n",
            "INFO:werkzeug:127.0.0.1 - - [13/May/2025 08:09:34] \"POST /callback HTTP/1.1\" 200 -\n",
            "INFO:werkzeug:127.0.0.1 - - [13/May/2025 08:09:48] \"POST /callback HTTP/1.1\" 200 -\n",
            "INFO:werkzeug:127.0.0.1 - - [13/May/2025 08:09:57] \"POST /callback HTTP/1.1\" 200 -\n"
          ]
        }
      ]
    }
  ]
}