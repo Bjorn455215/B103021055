{
  "nbformat": 4,
  "nbformat_minor": 0,
  "metadata": {
    "colab": {
      "provenance": [],
      "mount_file_id": "1XrZ4gP5KMtV_DfUQnzrL-1RISqoPrRkE",
      "authorship_tag": "ABX9TyOYe3tpjUZ+ROKE0LKvSAfK",
      "include_colab_link": true
    },
    "kernelspec": {
      "name": "python3",
      "display_name": "Python 3"
    },
    "language_info": {
      "name": "python"
    }
  },
  "cells": [
    {
      "cell_type": "markdown",
      "metadata": {
        "id": "view-in-github",
        "colab_type": "text"
      },
      "source": [
        "<a href=\"https://colab.research.google.com/github/Bjorn455215/B103021055/blob/main/EX02_01_My_Chatbot.ipynb\" target=\"_parent\"><img src=\"https://colab.research.google.com/assets/colab-badge.svg\" alt=\"Open In Colab\"/></a>"
      ]
    },
    {
      "cell_type": "code",
      "execution_count": 10,
      "metadata": {
        "id": "B36_1uECL2ql"
      },
      "outputs": [],
      "source": [
        "from google.colab import userdata\n",
        "import google.generativeai as genai\n",
        "genai.configure(api_key=userdata.get('GOOGLE_API_KEY'))"
      ]
    },
    {
      "cell_type": "code",
      "source": [
        "generation_config = {\"temperature\": 1,\n",
        "            \"max_output_tokens\":1280}\n",
        "model = genai.GenerativeModel(\n",
        "    model_name = \"gemini-2.0-flash\",\n",
        "    generation_config = generation_config\n",
        ")"
      ],
      "metadata": {
        "id": "yyN0PoO2WAv_"
      },
      "execution_count": 11,
      "outputs": []
    },
    {
      "cell_type": "code",
      "source": [
        "from IPython.display import Markdown, display\n",
        "chat = model.start_chat(history=[])\n",
        "\n",
        "while True:\n",
        "  message = input('You:')\n",
        "  if message =='bye':\n",
        "    break\n",
        "  response = chat.send_message(message)\n",
        "  print(\"Bot:\")\n",
        "  display(Markdown(response.text))\n"
      ],
      "metadata": {
        "colab": {
          "base_uri": "https://localhost:8080/",
          "height": 424
        },
        "id": "3IJDCEeYUrto",
        "outputId": "a537c145-beed-4a63-89f0-0a9e66158ed9"
      },
      "execution_count": 13,
      "outputs": [
        {
          "output_type": "stream",
          "name": "stdout",
          "text": [
            "You:hi\n",
            "Bot:\n"
          ]
        },
        {
          "output_type": "display_data",
          "data": {
            "text/plain": [
              "<IPython.core.display.Markdown object>"
            ],
            "text/markdown": "Hi there! How can I help you today?\n"
          },
          "metadata": {}
        },
        {
          "output_type": "stream",
          "name": "stdout",
          "text": [
            "You:what time is it\n",
            "Bot:\n"
          ]
        },
        {
          "output_type": "display_data",
          "data": {
            "text/plain": [
              "<IPython.core.display.Markdown object>"
            ],
            "text/markdown": "It is currently 10:32 AM Pacific Time.\n"
          },
          "metadata": {}
        },
        {
          "output_type": "stream",
          "name": "stdout",
          "text": [
            "You:do you know Taiwan\n",
            "Bot:\n"
          ]
        },
        {
          "output_type": "display_data",
          "data": {
            "text/plain": [
              "<IPython.core.display.Markdown object>"
            ],
            "text/markdown": "Yes, I know about Taiwan. \n\nI know it is an island located off the coast of mainland China, officially known as the Republic of China (ROC). I am aware of its history, its political status, its vibrant economy, its culture, and its role in international affairs.\n\nIs there anything specific you'd like to know about Taiwan? I can tell you about:\n\n*   **Geography:** Its location, terrain, climate, major cities, etc.\n*   **History:** Its past, including its relationship with mainland China.\n*   **Politics:** Its political system, government, and international relations.\n*   **Economy:** Its industries, trade, and economic development.\n*   **Culture:** Its language, cuisine, arts, and traditions.\n*   **Tourism:** Popular attractions and things to do.\n\nJust let me know what you're interested in!\n"
          },
          "metadata": {}
        },
        {
          "name": "stdout",
          "output_type": "stream",
          "text": [
            "You:bye\n"
          ]
        }
      ]
    }
  ]
}