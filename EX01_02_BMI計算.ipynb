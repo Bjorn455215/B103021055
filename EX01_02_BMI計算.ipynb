{
  "nbformat": 4,
  "nbformat_minor": 0,
  "metadata": {
    "colab": {
      "provenance": [],
      "authorship_tag": "ABX9TyMjo7ssJiS0gUBaa45EOf2I",
      "include_colab_link": true
    },
    "kernelspec": {
      "name": "python3",
      "display_name": "Python 3"
    },
    "language_info": {
      "name": "python"
    }
  },
  "cells": [
    {
      "cell_type": "markdown",
      "metadata": {
        "id": "view-in-github",
        "colab_type": "text"
      },
      "source": [
        "<a href=\"https://colab.research.google.com/github/Bjorn455215/B103021055/blob/main/EX01_02_BMI%E8%A8%88%E7%AE%97.ipynb\" target=\"_parent\"><img src=\"https://colab.research.google.com/assets/colab-badge.svg\" alt=\"Open In Colab\"/></a>"
      ]
    },
    {
      "cell_type": "code",
      "execution_count": 1,
      "metadata": {
        "colab": {
          "base_uri": "https://localhost:8080/"
        },
        "id": "EqqSU7drLDsb",
        "outputId": "c69fead1-e296-43b6-86bb-f0b6807d1a8e"
      },
      "outputs": [
        {
          "output_type": "stream",
          "name": "stdout",
          "text": [
            "height(cm):177\n",
            "weight(kg):80\n",
            "BMI: 25.5\n"
          ]
        }
      ],
      "source": [
        "ht = int(input('height(cm):'))\n",
        "wt = int(input('weight(kg):'))\n",
        "bmi = wt/(ht/100)**2\n",
        "print('BMI:',round(bmi,1))"
      ]
    }
  ]
}