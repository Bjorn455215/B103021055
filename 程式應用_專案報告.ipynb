{
  "nbformat": 4,
  "nbformat_minor": 0,
  "metadata": {
    "colab": {
      "provenance": [],
      "authorship_tag": "ABX9TyNr8x711AnUWjSuPYTfk5TH",
      "include_colab_link": true
    },
    "kernelspec": {
      "name": "python3",
      "display_name": "Python 3"
    },
    "language_info": {
      "name": "python"
    }
  },
  "cells": [
    {
      "cell_type": "markdown",
      "metadata": {
        "id": "view-in-github",
        "colab_type": "text"
      },
      "source": [
        "<a href=\"https://colab.research.google.com/github/Bjorn455215/B103021055/blob/main/%E7%A8%8B%E5%BC%8F%E6%87%89%E7%94%A8_%E5%B0%88%E6%A1%88%E5%A0%B1%E5%91%8A.ipynb\" target=\"_parent\"><img src=\"https://colab.research.google.com/assets/colab-badge.svg\" alt=\"Open In Colab\"/></a>"
      ]
    },
    {
      "cell_type": "markdown",
      "source": [
        "# **專案主題: 心理健康對話小助手**"
      ],
      "metadata": {
        "id": "9IdBq9herG5U"
      }
    },
    {
      "cell_type": "markdown",
      "source": [
        "# 專題動機與目的"
      ],
      "metadata": {
        "id": "3URezHxNyLXC"
      }
    },
    {
      "cell_type": "markdown",
      "source": [
        "現代學生壓力日益增加，心理健康議題日益受到關注，透過 AI 對話系統，期望建立一個友善、可傾聽的互動平台，讓學生可以在非正式的情境下表達情緒、學習情緒管理。\n",
        "\n",
        "本專題以 Gemini 語言模型為核心，打造具同理心的心理對話機器人。"
      ],
      "metadata": {
        "id": "yIwoyWgoyRXq"
      }
    },
    {
      "cell_type": "markdown",
      "source": [
        "# 相關研究與技術基礎"
      ],
      "metadata": {
        "id": "6RYCJO1vybK7"
      }
    },
    {
      "cell_type": "markdown",
      "source": [
        "心理健康促進與校園輔導機制介紹\n",
        "\n",
        "情緒辨識與非醫療對談模型之運用（如：「自我揭露」、「情緒回饋」、「非指導式傾聽」）"
      ],
      "metadata": {
        "id": "LxDr1_DBydt8"
      }
    },
    {
      "cell_type": "markdown",
      "source": [
        "**使用技術**\n",
        "\n",
        "* Google Gemini API\n",
        "\n",
        "* Gradio（建立互動介面）\n",
        "\n",
        "* Python"
      ],
      "metadata": {
        "id": "t4IsDpItylCU"
      }
    },
    {
      "cell_type": "markdown",
      "source": [
        "# 系統與功能架構"
      ],
      "metadata": {
        "id": "JD5iUDQuyt47"
      }
    },
    {
      "cell_type": "markdown",
      "source": [
        "**使用者角色**\n",
        "\n",
        "以學生為主的使用者（或任何需要情緒支持的一般使用者）"
      ],
      "metadata": {
        "id": "oWPM_DkP00iI"
      }
    },
    {
      "cell_type": "markdown",
      "source": [
        "**主要功能**\n",
        "\n",
        "* 對話引導（傾聽情緒、引導說出感受）\n",
        "\n",
        "* 情緒詞彙教學（例如：「難過」「焦慮」「開心」的差別）\n",
        "\n",
        "* 情緒調節策略分享（呼吸法、轉移注意力、寫日記等）\n",
        "\n",
        "* 最後提供溫暖鼓勵（例：「你已經做得很好了！」）"
      ],
      "metadata": {
        "id": "opU0Nqlf1uWV"
      }
    },
    {
      "cell_type": "markdown",
      "source": [
        "# 程式架構"
      ],
      "metadata": {
        "id": "fyjbUURD2rR2"
      }
    },
    {
      "cell_type": "code",
      "execution_count": 2,
      "metadata": {
        "id": "vyNWtWAoq5rt"
      },
      "outputs": [],
      "source": [
        "pip install -q gradio"
      ]
    },
    {
      "cell_type": "code",
      "source": [
        "import gradio as gr\n",
        "from google import genai\n",
        "from google.colab import userdata\n",
        "\n",
        "# 讀取 API 金鑰\n",
        "api_key = userdata.get('GOOGLE_API_KEY')\n",
        "client = genai.Client(api_key=api_key)\n",
        "\n",
        "# Prompt 設定：角色設定與對話風格\n",
        "prompt = '''\n",
        "請你扮演一位溫柔、耐心的心理輔導老師。\n",
        "你目前正在和一位國中生或高中生進行對談。\n",
        "目標是傾聽學生的心情，讓他能放心說出自己的情緒，並引導他學會用語言描述感受。\n",
        "請避免使用醫療術語、診斷，也不需要提出解決問題的具體建議。\n",
        "\n",
        "你的語氣應該是：\n",
        "- 同理、溫暖、引導性\n",
        "- 以提問方式鼓勵對方說更多（例如：「你願意跟我多說一點嗎？」、「你覺得是什麼讓你這麼難過呢？」）\n",
        "- 當對方說出正面或困難情緒時，請適時回應鼓勵（例如：「你很勇敢，願意說出自己的心情。」）\n",
        "\n",
        "對話格式：像在一對一聊天中，你是唯一的 AI 輔導員。\n",
        "'''\n",
        "\n",
        "# 建立聊天初始化函數\n",
        "def init_chat():\n",
        "    chat = client.chats.create(model=\"gemini-1.5-flash\")\n",
        "    init_response = chat.send_message(prompt)\n",
        "    return chat, [{\"role\": \"assistant\", \"content\": init_response.text}]\n",
        "\n",
        "# 使用者回應時的處理函數\n",
        "def respond(message, history, chat):\n",
        "    response = chat.send_message(message)\n",
        "    history.append({\"role\": \"user\", \"content\": message})\n",
        "    history.append({\"role\": \"assistant\", \"content\": response.text})\n",
        "    return history, chat, \"\"\n",
        "\n",
        "# Gradio 介面設計\n",
        "with gr.Blocks() as app:\n",
        "    state = gr.State()  # 存放 chat 物件\n",
        "\n",
        "    with gr.Row():\n",
        "        with gr.Column(scale=1):\n",
        "            gr.Markdown(\"##心理健康對話小助手\")\n",
        "            gr.Markdown(\"\"\"\n",
        "            歡迎來到心理健康對話小助手！\n",
        "            這裡是一個安心的地方，你可以說出自己的心情。\n",
        "            不管是開心、難過、壓力大或覺得空虛，都可以跟我聊聊。\n",
        "            但請記住我不是醫生，只是會傾聽你說話的一位AI好朋友:)。\n",
        "            \"\"\")\n",
        "        with gr.Column(scale=2):\n",
        "            chatbot = gr.Chatbot(label=\"心理小助手\", type=\"messages\")\n",
        "            msg = gr.Textbox(label=\"輸入你的心情...\", placeholder=\"例如：我今天有點累...\")\n",
        "\n",
        "    def start():\n",
        "        chat, init_messages = init_chat()\n",
        "        return chat, init_messages\n",
        "\n",
        "    # 啟動時初始化對話\n",
        "    app.load(start, outputs=[state, chatbot])\n",
        "\n",
        "    # 傳送訊息後更新對話\n",
        "    msg.submit(fn=respond, inputs=[msg, chatbot, state], outputs=[chatbot, state, msg])\n",
        "\n",
        "app.launch()\n"
      ],
      "metadata": {
        "id": "bFQ_9kyjtB58"
      },
      "execution_count": null,
      "outputs": []
    },
    {
      "cell_type": "markdown",
      "source": [
        "以下為基礎程式架構執行後之畫面"
      ],
      "metadata": {
        "id": "0BrvIO2Q6iTH"
      }
    },
    {
      "cell_type": "markdown",
      "source": [
        "![image.png](data:image/png;base64,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)"
      ],
      "metadata": {
        "id": "MJOJaC3A6FWg"
      }
    },
    {
      "cell_type": "markdown",
      "source": [
        "# 功能衍伸"
      ],
      "metadata": {
        "id": "QHr4zw167TxG"
      }
    },
    {
      "cell_type": "markdown",
      "source": [
        "考量到學生族群也有可能有心理疾病等因素，而會說出情緒低落等風險關鍵字，本部分加入情緒風險關鍵字提示能讓聊天機器人在面對敏感情緒（如：憂鬱、放棄、自傷傾向）時做出適當的同理與提醒，同時避免 AI 給出不當建議，這對心理健康來說非常重要。"
      ],
      "metadata": {
        "id": "GmYoBDg_6ema"
      }
    },
    {
      "cell_type": "markdown",
      "source": [
        "**加入功能程式碼**"
      ],
      "metadata": {
        "id": "l50_Oq4s7Xu-"
      }
    },
    {
      "cell_type": "code",
      "source": [
        "import gradio as gr\n",
        "from google import genai\n",
        "from google.colab import userdata\n",
        "\n",
        "# 讀取 API 金鑰\n",
        "api_key = userdata.get('GOOGLE_API_KEY')\n",
        "client = genai.Client(api_key=api_key)\n",
        "\n",
        "# Prompt 設定：角色設定與對話風格\n",
        "prompt = '''\n",
        "請你扮演一位溫柔、耐心的心理輔導老師。\n",
        "你目前正在和一位國中生或高中生進行對談。\n",
        "目標是傾聽學生的心情，讓他能放心說出自己的情緒，並引導他學會用語言描述感受。\n",
        "請避免使用醫療術語、診斷，也不需要提出解決問題的具體建議。\n",
        "\n",
        "你的語氣應該是：\n",
        "- 同理、溫暖、引導性\n",
        "- 以提問方式鼓勵對方說更多（例如：「你願意跟我多說一點嗎？」、「你覺得是什麼讓你這麼難過呢？」）\n",
        "- 當對方說出正面或困難情緒時，請適時回應鼓勵（例如：「你很勇敢，願意說出自己的心情。」）\n",
        "\n",
        "對話格式：像在一對一聊天中，你是唯一的 AI 輔導員。\n",
        "'''\n",
        "\n",
        "# 高風險情緒關鍵字\n",
        "danger_keywords = [\"想死\", \"自殺\", \"想不開\", \"沒意義\", \"結束一切\", \"自殘\", \"活著好痛苦\", \"撐不下去\", \"我好累\"]\n",
        "\n",
        "# 建立聊天初始化函數\n",
        "def init_chat():\n",
        "    chat = client.chats.create(model=\"gemini-1.5-flash\")\n",
        "    init_response = chat.send_message(prompt)\n",
        "    return chat, [{\"role\": \"assistant\", \"content\": init_response.text}]\n",
        "\n",
        "# 使用者回應時的處理函數\n",
        "def respond(message, history, chat):\n",
        "    # 檢查高風險語句\n",
        "    if any(keyword in message for keyword in danger_keywords):\n",
        "        warning = (\n",
        "            \"我聽得出來你現在真的很辛苦。\\n\\n\"\n",
        "            \"建議你可以找值得信任的大人聊聊，也可以撥打 1925 張老師專線（24小時免費）。\\n\"\n",
        "            \"你並不孤單，我會一直在這裡聽你說。你願意和我多說一點嗎？\"\n",
        "        )\n",
        "        history.append({\"role\": \"user\", \"content\": message})\n",
        "        history.append({\"role\": \"assistant\", \"content\": warning})\n",
        "        return history, chat, \"\"\n",
        "\n",
        "    # 一般對話處理\n",
        "    response = chat.send_message(message)\n",
        "    history.append({\"role\": \"user\", \"content\": message})\n",
        "    history.append({\"role\": \"assistant\", \"content\": response.text})\n",
        "    return history, chat, \"\"\n",
        "\n",
        "# Gradio 介面設計\n",
        "with gr.Blocks() as app:\n",
        "    state = gr.State()\n",
        "\n",
        "    with gr.Row():\n",
        "        with gr.Column(scale=1):\n",
        "            gr.Markdown(\"##心理健康對話小助手\")\n",
        "            gr.Markdown(\"\"\"\n",
        "            歡迎來到心理健康對話小助手！\n",
        "            這裡是一個安心的地方，你可以說出自己的心情。\n",
        "            不管是開心、難過、壓力大或覺得空虛，都可以跟我聊聊。\n",
        "\n",
        "            但請記住：我不是醫生，只是會傾聽你說話的一位 AI 好朋友 :)\n",
        "            \"\"\")\n",
        "        with gr.Column(scale=2):\n",
        "            chatbot = gr.Chatbot(label=\"心理小助手\", type=\"messages\")\n",
        "            msg = gr.Textbox(label=\"輸入你的心情...\", placeholder=\"例如：我今天有點累...\")\n",
        "\n",
        "    def start():\n",
        "        chat, init_messages = init_chat()\n",
        "        return chat, init_messages\n",
        "\n",
        "    # 初始對話\n",
        "    app.load(start, outputs=[state, chatbot])\n",
        "\n",
        "    # 使用者回覆處理\n",
        "    msg.submit(fn=respond, inputs=[msg, chatbot, state], outputs=[chatbot, state, msg])\n",
        "\n",
        "# 啟動應用\n",
        "app.launch()\n"
      ],
      "metadata": {
        "colab": {
          "base_uri": "https://localhost:8080/",
          "height": 650
        },
        "id": "rDmQeHOe7bXW",
        "outputId": "24b65ba2-b7b2-4a26-ffee-333b701680c9"
      },
      "execution_count": 7,
      "outputs": [
        {
          "output_type": "stream",
          "name": "stdout",
          "text": [
            "It looks like you are running Gradio on a hosted a Jupyter notebook. For the Gradio app to work, sharing must be enabled. Automatically setting `share=True` (you can turn this off by setting `share=False` in `launch()` explicitly).\n",
            "\n",
            "Colab notebook detected. To show errors in colab notebook, set debug=True in launch()\n",
            "* Running on public URL: https://be530c0b5370387303.gradio.live\n",
            "\n",
            "This share link expires in 1 week. For free permanent hosting and GPU upgrades, run `gradio deploy` from the terminal in the working directory to deploy to Hugging Face Spaces (https://huggingface.co/spaces)\n"
          ]
        },
        {
          "output_type": "display_data",
          "data": {
            "text/plain": [
              "<IPython.core.display.HTML object>"
            ],
            "text/html": [
              "<div><iframe src=\"https://be530c0b5370387303.gradio.live\" width=\"100%\" height=\"500\" allow=\"autoplay; camera; microphone; clipboard-read; clipboard-write;\" frameborder=\"0\" allowfullscreen></iframe></div>"
            ]
          },
          "metadata": {}
        },
        {
          "output_type": "execute_result",
          "data": {
            "text/plain": []
          },
          "metadata": {},
          "execution_count": 7
        }
      ]
    },
    {
      "cell_type": "markdown",
      "source": [
        "# 效益分析"
      ],
      "metadata": {
        "id": "AHi8uc8y_aof"
      }
    },
    {
      "cell_type": "markdown",
      "source": [
        "1. 提供低門檻的情緒表達管道\n",
        "透過自然語言對話介面，使用者可在匿名、無壓力的情境中傾訴自身情緒，有助於釋放壓力、促進情緒健康，尤其適用於不擅長面對面溝通的學生。\n",
        "\n",
        "2. 增進情緒識別與表達能力\n",
        "藉由 AI 引導式提問，學生學習如何辨識自己的情緒並以語言具體表達，有助於提升情緒覺察力與自我理解。\n",
        "\n",
        "3. 避免語言模型誤導，提升使用安全性\n",
        "透過風險關鍵字偵測機制，當使用者輸入可能含有自傷、自殺等危機字詞時，系統會提供專業協助管道並給予溫和引導，降低模型誤解使用者語意的風險。\n",
        "\n",
        "4. 應用彈性高、可擴充性強\n",
        "本系統架構以 Gemini 模型搭配 Gradio 介面為基礎，設計簡潔清楚，具備良好的擴充性，未來可應用至各種心理輔導、教育學習與自我對話領域。"
      ],
      "metadata": {
        "id": "4F0ad-df_m1G"
      }
    },
    {
      "cell_type": "markdown",
      "source": [
        "# 未來發展與改進方向"
      ],
      "metadata": {
        "id": "A3v6wd9e_yaP"
      }
    },
    {
      "cell_type": "markdown",
      "source": [
        "1. 加入多模態情緒輸入與偵測\n",
        "未來可結合語音輸入、表情辨識、圖像繪畫等多模態資料，使 AI 更準確理解使用者情緒狀態，並做出更貼切的回應。\n",
        "\n",
        "2. 納入情緒教學與正念練習模組\n",
        "可加入「情緒詞彙小百科」、「五分鐘呼吸冥想」等教學與引導內容，讓學生在對話之外，也能學習具體的情緒調節方法。\n",
        "\n",
        "3. 建立主題情境導覽功能\n",
        "透過按鈕或選單提供主題分類（例如：考試焦慮、人際困擾、家庭壓力），AI 可根據主題調整對話風格與內容，提升互動深度。\n",
        "\n",
        "4. 結合校園輔導系統\n",
        "若導入實際校園，可結合輔導老師後台系統，協助及早介入高風險個案，同時保障學生隱私與資料安全。\n",
        "\n",
        "5. 記錄並可選擇性匯出對話歷程\n",
        "未來可提供使用者下載自身對話紀錄，或匿名授權輔導單位觀察整體情緒趨勢，用於教育現場的心理健康普查與預警。"
      ],
      "metadata": {
        "id": "L_JiJGct_5fH"
      }
    },
    {
      "cell_type": "markdown",
      "source": [
        "**謝謝老師本學期的教導!**"
      ],
      "metadata": {
        "id": "bRRRdMpZAsRv"
      }
    }
  ]
}