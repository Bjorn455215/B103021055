{
  "nbformat": 4,
  "nbformat_minor": 0,
  "metadata": {
    "colab": {
      "provenance": [],
      "authorship_tag": "ABX9TyMF8fXQQuWHOoCDCRqmfLcH",
      "include_colab_link": true
    },
    "kernelspec": {
      "name": "python3",
      "display_name": "Python 3"
    },
    "language_info": {
      "name": "python"
    }
  },
  "cells": [
    {
      "cell_type": "markdown",
      "metadata": {
        "id": "view-in-github",
        "colab_type": "text"
      },
      "source": [
        "<a href=\"https://colab.research.google.com/github/Bjorn455215/B103021055/blob/main/EX01_04%E7%B5%82%E6%A5%B5%E5%AF%86%E7%A2%BC.ipynb\" target=\"_parent\"><img src=\"https://colab.research.google.com/assets/colab-badge.svg\" alt=\"Open In Colab\"/></a>"
      ]
    },
    {
      "cell_type": "code",
      "execution_count": null,
      "metadata": {
        "id": "jy3gk4_st9kK"
      },
      "outputs": [],
      "source": [
        "import random\n",
        "\n",
        "# 產生隨機數字\n",
        "target = random.randint(1, 99)\n",
        "\n",
        "# 設定範圍\n",
        "low, high = 1, 99\n",
        "\n",
        "print(\"=== 終極密碼遊戲開始！ ===\")\n",
        "print(f\"請在 {low} ~ {high} 之間猜一個數字\")\n",
        "\n",
        "while True:\n",
        "    try:\n",
        "        guess = int(input(f\"請輸入數字 ({low} ~ {high}): \"))\n",
        "\n",
        "        # 確保輸入數字在有效範圍內\n",
        "        if guess < low or guess > high:\n",
        "            print(\"超出範圍！請重新輸入！\")\n",
        "            continue\n",
        "\n",
        "        # 判斷結果\n",
        "        if guess > target:\n",
        "            high = guess  # 縮小上界\n",
        "            print(\"太大了！範圍縮小為:\", low, \"~\", high)\n",
        "        elif guess < target:\n",
        "            low = guess  # 縮小下界\n",
        "            print(\"太小了！範圍縮小為:\", low, \"~\", high)\n",
        "        else:\n",
        "            print(f\"恭喜你猜中！答案是 {target}！\")\n",
        "            break\n",
        "\n",
        "    except ValueError:\n",
        "        print(\"請輸入有效數字！\")\n",
        "\n",
        "print(\"=== 遊戲結束 ===\")"
      ]
    }
  ]
}