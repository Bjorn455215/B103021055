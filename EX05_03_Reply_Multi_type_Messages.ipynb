{
  "nbformat": 4,
  "nbformat_minor": 0,
  "metadata": {
    "colab": {
      "provenance": [],
      "authorship_tag": "ABX9TyM5CmBRX+0UE93RhdMmUPst",
      "include_colab_link": true
    },
    "kernelspec": {
      "name": "python3",
      "display_name": "Python 3"
    },
    "language_info": {
      "name": "python"
    }
  },
  "cells": [
    {
      "cell_type": "markdown",
      "metadata": {
        "id": "view-in-github",
        "colab_type": "text"
      },
      "source": [
        "<a href=\"https://colab.research.google.com/github/Bjorn455215/B103021055/blob/main/EX05_03_Reply_Multi_type_Messages.ipynb\" target=\"_parent\"><img src=\"https://colab.research.google.com/assets/colab-badge.svg\" alt=\"Open In Colab\"/></a>"
      ]
    },
    {
      "cell_type": "code",
      "execution_count": null,
      "metadata": {
        "id": "3vrqdq2uuBSA"
      },
      "outputs": [],
      "source": [
        "!pip install -q line-bot-sdk #-q 不顯示太多文字"
      ]
    },
    {
      "cell_type": "code",
      "source": [
        "!pip install -q flask pyngrok flask_ngrok"
      ],
      "metadata": {
        "id": "jo3rDgAKuJux"
      },
      "execution_count": null,
      "outputs": []
    },
    {
      "cell_type": "code",
      "source": [
        "# for colab\n",
        "from google.colab import userdata\n",
        "from pyngrok import ngrok\n",
        "from flask_ngrok import run_with_ngrok\n",
        "def ngrok_start():\n",
        "    ngrok.set_auth_token(userdata.get('NGROK_AUTOTOKEN'))\n",
        "    ngrok.connect(5000)\n",
        "    run_with_ngrok(app)\n",
        "\n",
        "\n",
        "from flask import Flask, request, abort\n",
        "\n",
        "from linebot.v3 import WebhookHandler\n",
        "from linebot.v3.exceptions import InvalidSignatureError\n",
        "from linebot.v3.webhooks import MessageEvent, TextMessageContent\n",
        "from linebot.v3.messaging import (\n",
        "    Configuration, ApiClient, MessagingApi,\n",
        "    ReplyMessageRequest,\n",
        "    TextMessage,\n",
        "    StickerMessage, #貼圖套件\n",
        "    ImageMessage, #圖片套件\n",
        "    VideoMessage, #影片套件\n",
        "    LocationMessage #位置套件\n",
        ")\n",
        "\n",
        "app = Flask(__name__)\n",
        "\n",
        "configuration = Configuration(access_token=userdata.get('Line_channel_accesstoken'))\n",
        "handler = WebhookHandler(userdata.get('Line_channel_token'))\n",
        "\n",
        "@app.route(\"/callback\", methods=['POST'])\n",
        "def callback():\n",
        "    signature = request.headers['X-Line-Signature']\n",
        "    body = request.get_data(as_text=True)\n",
        "    try:\n",
        "        handler.handle(body, signature)\n",
        "    except InvalidSignatureError:\n",
        "        abort(400)\n",
        "    return 'OK'\n",
        "\n",
        "import google.generativeai as genai #設置 Google Gemini 模型\n",
        "#配置 Google Gemini 模型，並定義了一個 ask_gemini 函數，用於向模型提問并获取答案。\n",
        "genai.configure(api_key=userdata.get('GOOGLE_API_KEY'))\n",
        "model = genai.GenerativeModel('gemini-2.0-flash')\n",
        "def ask_gemini(question):\n",
        "  reponse = model.generate_content(question)\n",
        "  return reponse.text\n",
        "\n",
        "@handler.add(MessageEvent, message=TextMessageContent)\n",
        "def handle_message(event):\n",
        "    with ApiClient(configuration) as api_client:\n",
        "        line_bot_api = MessagingApi(api_client)\n",
        "\n",
        "        action = event.message.text\n",
        "        if action == 'sticker':\n",
        "           reply = StickerMessage(\n",
        "            package_id='6362',\n",
        "            sticker_id='11087924'\n",
        "           )\n",
        "        elif action == 'image':\n",
        "           reply = ImageMessage(\n",
        "            original_content_url='https://cdn.pixabay.com/photo/2018/01/15/11/36/shiba-inu-3083761_1280.jpg',\n",
        "            preview_image_url='https://cdn.pixabay.com/photo/2018/01/15/11/36/shiba-inu-3083761_1280.jpg'\n",
        "           )\n",
        "        elif action == 'video':\n",
        "           reply = VideoMessage(\n",
        "            original_content_url='https://cdn.pixabay.com/video/2024/03/26/205717-927672854_tiny.mp4',\n",
        "            preview_image_url='https://img.youtube.com/vi/QmMUM3enIEQ/sddefault.jpg'\n",
        "           )\n",
        "        elif action == 'location':\n",
        "           reply = LocationMessage(\n",
        "            title=\"國立政治大學附屬高級中學\",\n",
        "            address=\"116台北市文山區政大一街353號\",\n",
        "            latitude=24.987933167396452,\n",
        "            longitude=121.5851952617447\n",
        "           )\n",
        "        else:\n",
        "           response = ask_gemini(action)\n",
        "           reply = TextMessage(text=response)\n",
        "\n",
        "        line_bot_api.reply_message(\n",
        "         ReplyMessageRequest(\n",
        "           reply_token=event.reply_token,\n",
        "             messages=[\n",
        "               reply\n",
        "             ]\n",
        "         ))\n",
        "\n",
        "\n",
        "\n",
        "ngrok_start() # for colab\n",
        "if __name__ == \"__main__\":\n",
        "    app.run()"
      ],
      "metadata": {
        "id": "kAGtxLa7uLJo"
      },
      "execution_count": null,
      "outputs": []
    }
  ]
}