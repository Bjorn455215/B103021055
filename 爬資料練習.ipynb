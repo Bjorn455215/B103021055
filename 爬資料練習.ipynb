{
  "nbformat": 4,
  "nbformat_minor": 0,
  "metadata": {
    "colab": {
      "provenance": [],
      "mount_file_id": "1duRyv8gBhaYDlAdvdAYNsPUEKM6_xpWP",
      "authorship_tag": "ABX9TyNLSx0Lgru9PlML1gcC+rCh",
      "include_colab_link": true
    },
    "kernelspec": {
      "name": "python3",
      "display_name": "Python 3"
    },
    "language_info": {
      "name": "python"
    }
  },
  "cells": [
    {
      "cell_type": "markdown",
      "metadata": {
        "id": "view-in-github",
        "colab_type": "text"
      },
      "source": [
        "<a href=\"https://colab.research.google.com/github/Bjorn455215/B103021055/blob/main/%E7%88%AC%E8%B3%87%E6%96%99%E7%B7%B4%E7%BF%92.ipynb\" target=\"_parent\"><img src=\"https://colab.research.google.com/assets/colab-badge.svg\" alt=\"Open In Colab\"/></a>"
      ]
    },
    {
      "cell_type": "code",
      "execution_count": 32,
      "metadata": {
        "id": "DIAmwz768393"
      },
      "outputs": [],
      "source": [
        "# 圖片下載\n",
        "# https://www.youtube.com/watch?v=TlHm1rNCYaw&t=1498s\n",
        "# https://img.youtube.com/vi/TlHm1rNCYaw&t=1498s/sddefault.jpg\n",
        "import requests\n",
        "url = 'https://img.youtube.com/vi/TlHm1rNCYaw/sddefault.jpg'\n",
        "r = requests.get(url)\n",
        "with open('macross.jpg', 'wb') as f:\n",
        "    f.write(r.content)\n",
        "\n",
        "\n"
      ]
    },
    {
      "cell_type": "markdown",
      "source": [
        "# 新增區段"
      ],
      "metadata": {
        "id": "cdv3VGDpD5BF"
      }
    }
  ]
}